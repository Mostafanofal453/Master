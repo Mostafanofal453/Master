{
  "nbformat": 4,
  "nbformat_minor": 0,
  "metadata": {
    "colab": {
      "name": "Assignment1_NLP.ipynb",
      "provenance": [],
      "collapsed_sections": []
    },
    "kernelspec": {
      "name": "python3",
      "display_name": "Python 3"
    },
    "language_info": {
      "name": "python"
    }
  },
  "cells": [
    {
      "cell_type": "markdown",
      "source": [
        "Function to reads a list of book names from gutenberg , \n",
        "returns a list of lists each one contains words of the book"
      ],
      "metadata": {
        "id": "FYrHbMG1Q3Y8"
      }
    },
    {
      "cell_type": "code",
      "source": [
        "def read(list_of_books):\n",
        "  import nltk\n",
        "  nltk.download('gutenberg')\n",
        "  all_books = []\n",
        "  for i in list_of_books:\n",
        "    all_books.append(list(nltk.corpus.gutenberg.words(i)))\n",
        "  return all_books"
      ],
      "metadata": {
        "id": "C5mBNRzYOFtF"
      },
      "execution_count": 64,
      "outputs": []
    },
    {
      "cell_type": "markdown",
      "source": [
        "Function to remove the special characters and stopwords from the books ,\n",
        "input the list of lists of Books words,\n",
        "return the cleaned books"
      ],
      "metadata": {
        "id": "2DSBcpjWfx1J"
      }
    },
    {
      "cell_type": "code",
      "source": [
        "def preprocessing(Book_text):\n",
        "  import nltk\n",
        "  import re\n",
        "  from nltk.corpus import stopwords\n",
        "  nltk.download('stopwords')\n",
        "  filtered_book = []\n",
        "  y = []\n",
        "  stopwords = stopwords.words('english')\n",
        "  for i in Book_text:\n",
        "        y.extend(re.findall(r\"\\w+\",i))\n",
        "  for i in y:\n",
        "    if i not in stopwords:\n",
        "      filtered_book.append(i)    \n",
        "  return filtered_book"
      ],
      "metadata": {
        "id": "RWn1liRY8Zq4"
      },
      "execution_count": 65,
      "outputs": []
    },
    {
      "cell_type": "markdown",
      "source": [
        "Function to generate the random indeces"
      ],
      "metadata": {
        "id": "0U-yv8QrSL-j"
      }
    },
    {
      "cell_type": "code",
      "source": [
        "def generate_random_indeces(length):\n",
        "  import random\n",
        "  lst = []\n",
        "  for i in range(200):\n",
        "    tmp = random.randint(0,length-100)\n",
        "    lst.append(tmp)\n",
        "  return lst"
      ],
      "metadata": {
        "id": "Hna6QjBXTG6U"
      },
      "execution_count": 66,
      "outputs": []
    },
    {
      "cell_type": "markdown",
      "source": [
        "Function to generate the list contains 200 index each one is list of 100 words"
      ],
      "metadata": {
        "id": "s6vRUvDSSMeb"
      }
    },
    {
      "cell_type": "code",
      "source": [
        "def splitting(books):\n",
        "  clean_books = []\n",
        "  for i in books:\n",
        "    clean_books.append(preprocessing(i))\n",
        "\n",
        "  sentences = []\n",
        "  for clean_book in clean_books:\n",
        "    indices = generate_random_indeces(len(clean_book))\n",
        "    for i in indices:\n",
        "      sentences.append(clean_book[i:i+100])\n",
        "  return sentences"
      ],
      "metadata": {
        "id": "qZ37SCy_O1N1"
      },
      "execution_count": 67,
      "outputs": []
    },
    {
      "cell_type": "markdown",
      "source": [
        "Function to change the list which contains 100 words to string,"
      ],
      "metadata": {
        "id": "soNd4DAjSM2z"
      }
    },
    {
      "cell_type": "code",
      "source": [
        "def joined_sentences(sentences):\n",
        "  joined = []\n",
        "  for i in sentences:\n",
        "    joined.append(' '.join(w for w in i))\n",
        "  return joined"
      ],
      "metadata": {
        "id": "9lNk49QLVLql"
      },
      "execution_count": 68,
      "outputs": []
    },
    {
      "cell_type": "markdown",
      "source": [
        "Function to generate the labels for the book,\n",
        "input the list of books names,\n",
        "return the list contains 200 book name except .txt"
      ],
      "metadata": {
        "id": "HdtHKA9BSNUT"
      }
    },
    {
      "cell_type": "code",
      "source": [
        "def labeling(names):  \n",
        "  books_names = []\n",
        "  for i in names:\n",
        "    for j in range(200):\n",
        "      books_names.append(i[:-4])\n",
        "  return books_names"
      ],
      "metadata": {
        "id": "CFIVFsjbYaUM"
      },
      "execution_count": 69,
      "outputs": []
    },
    {
      "cell_type": "markdown",
      "source": [
        "Generalized function to do all the above in one variable,\n",
        "input the list of book names from gutenberg,\n",
        "return the dataframe that displays the partitions and name of the books"
      ],
      "metadata": {
        "id": "ZB4GBTWSSNuL"
      }
    },
    {
      "cell_type": "code",
      "source": [
        "def TextDataPartitioning(names):\n",
        "  books = read(names)\n",
        "  sentences = splitting(books)\n",
        "  joined = joined_sentences(sentences)\n",
        "  labels = labeling(names)\n",
        "  import pandas as pd\n",
        "  df = pd.DataFrame()\n",
        "  df['sentences'] = sentences\n",
        "  df['joined_sentences'] = joined\n",
        "  df['Book_Names'] = labels\n",
        "  return df"
      ],
      "metadata": {
        "id": "j0dQkNzUdofB"
      },
      "execution_count": 70,
      "outputs": []
    },
    {
      "cell_type": "markdown",
      "source": [
        "Input the name of the books"
      ],
      "metadata": {
        "id": "OO5lkikXSOib"
      }
    },
    {
      "cell_type": "code",
      "source": [
        "df = TextDataPartitioning(['austen-emma.txt', 'chesterton-brown.txt'])\n",
        "df"
      ],
      "metadata": {
        "colab": {
          "base_uri": "https://localhost:8080/",
          "height": 528
        },
        "id": "3-IS56xuaaWD",
        "outputId": "edb0938f-66f2-4d17-d954-db346ff00e2a"
      },
      "execution_count": 71,
      "outputs": [
        {
          "output_type": "stream",
          "name": "stdout",
          "text": [
            "[nltk_data] Downloading package gutenberg to /root/nltk_data...\n",
            "[nltk_data]   Package gutenberg is already up-to-date!\n",
            "[nltk_data] Downloading package stopwords to /root/nltk_data...\n",
            "[nltk_data]   Package stopwords is already up-to-date!\n",
            "[nltk_data] Downloading package stopwords to /root/nltk_data...\n",
            "[nltk_data]   Package stopwords is already up-to-date!\n"
          ]
        },
        {
          "output_type": "execute_result",
          "data": {
            "text/plain": [
              "                                             sentences  \\\n",
              "0    [long, acquainted, said, Emma, nothing, I, sup...   \n",
              "1    [every, thing, care, health, made, grieve, wou...   \n",
              "2    [I, never, met, equal, Much, beyond, hopes, Ha...   \n",
              "3    [apprehension, frequently, endured, though, of...   \n",
              "4    [subject, first, introduced, wonderful, story,...   \n",
              "..                                                 ...   \n",
              "395  [dressed, poorly, respectably, black, old, bla...   \n",
              "396  [mouth, open, speak, notebook, open, write, I,...   \n",
              "397  [scattered, houses, stood, farther, farther, a...   \n",
              "398  [truly, fraternal, indifference, radiance, der...   \n",
              "399  [head, hearts, Western, Sun, Dalroy, come, see...   \n",
              "\n",
              "                                      joined_sentences        Book_Names  \n",
              "0    long acquainted said Emma nothing I suppose kn...       austen-emma  \n",
              "1    every thing care health made grieve would eat ...       austen-emma  \n",
              "2    I never met equal Much beyond hopes Harriet di...       austen-emma  \n",
              "3    apprehension frequently endured though offence...       austen-emma  \n",
              "4    subject first introduced wonderful story Jane ...       austen-emma  \n",
              "..                                                 ...               ...  \n",
              "395  dressed poorly respectably black old black top...  chesterton-brown  \n",
              "396  mouth open speak notebook open write I remembe...  chesterton-brown  \n",
              "397  scattered houses stood farther farther apart b...  chesterton-brown  \n",
              "398  truly fraternal indifference radiance derision...  chesterton-brown  \n",
              "399  head hearts Western Sun Dalroy come seemed snu...  chesterton-brown  \n",
              "\n",
              "[400 rows x 3 columns]"
            ],
            "text/html": [
              "\n",
              "  <div id=\"df-d3321204-9291-46f5-8692-905980652332\">\n",
              "    <div class=\"colab-df-container\">\n",
              "      <div>\n",
              "<style scoped>\n",
              "    .dataframe tbody tr th:only-of-type {\n",
              "        vertical-align: middle;\n",
              "    }\n",
              "\n",
              "    .dataframe tbody tr th {\n",
              "        vertical-align: top;\n",
              "    }\n",
              "\n",
              "    .dataframe thead th {\n",
              "        text-align: right;\n",
              "    }\n",
              "</style>\n",
              "<table border=\"1\" class=\"dataframe\">\n",
              "  <thead>\n",
              "    <tr style=\"text-align: right;\">\n",
              "      <th></th>\n",
              "      <th>sentences</th>\n",
              "      <th>joined_sentences</th>\n",
              "      <th>Book_Names</th>\n",
              "    </tr>\n",
              "  </thead>\n",
              "  <tbody>\n",
              "    <tr>\n",
              "      <th>0</th>\n",
              "      <td>[long, acquainted, said, Emma, nothing, I, sup...</td>\n",
              "      <td>long acquainted said Emma nothing I suppose kn...</td>\n",
              "      <td>austen-emma</td>\n",
              "    </tr>\n",
              "    <tr>\n",
              "      <th>1</th>\n",
              "      <td>[every, thing, care, health, made, grieve, wou...</td>\n",
              "      <td>every thing care health made grieve would eat ...</td>\n",
              "      <td>austen-emma</td>\n",
              "    </tr>\n",
              "    <tr>\n",
              "      <th>2</th>\n",
              "      <td>[I, never, met, equal, Much, beyond, hopes, Ha...</td>\n",
              "      <td>I never met equal Much beyond hopes Harriet di...</td>\n",
              "      <td>austen-emma</td>\n",
              "    </tr>\n",
              "    <tr>\n",
              "      <th>3</th>\n",
              "      <td>[apprehension, frequently, endured, though, of...</td>\n",
              "      <td>apprehension frequently endured though offence...</td>\n",
              "      <td>austen-emma</td>\n",
              "    </tr>\n",
              "    <tr>\n",
              "      <th>4</th>\n",
              "      <td>[subject, first, introduced, wonderful, story,...</td>\n",
              "      <td>subject first introduced wonderful story Jane ...</td>\n",
              "      <td>austen-emma</td>\n",
              "    </tr>\n",
              "    <tr>\n",
              "      <th>...</th>\n",
              "      <td>...</td>\n",
              "      <td>...</td>\n",
              "      <td>...</td>\n",
              "    </tr>\n",
              "    <tr>\n",
              "      <th>395</th>\n",
              "      <td>[dressed, poorly, respectably, black, old, bla...</td>\n",
              "      <td>dressed poorly respectably black old black top...</td>\n",
              "      <td>chesterton-brown</td>\n",
              "    </tr>\n",
              "    <tr>\n",
              "      <th>396</th>\n",
              "      <td>[mouth, open, speak, notebook, open, write, I,...</td>\n",
              "      <td>mouth open speak notebook open write I remembe...</td>\n",
              "      <td>chesterton-brown</td>\n",
              "    </tr>\n",
              "    <tr>\n",
              "      <th>397</th>\n",
              "      <td>[scattered, houses, stood, farther, farther, a...</td>\n",
              "      <td>scattered houses stood farther farther apart b...</td>\n",
              "      <td>chesterton-brown</td>\n",
              "    </tr>\n",
              "    <tr>\n",
              "      <th>398</th>\n",
              "      <td>[truly, fraternal, indifference, radiance, der...</td>\n",
              "      <td>truly fraternal indifference radiance derision...</td>\n",
              "      <td>chesterton-brown</td>\n",
              "    </tr>\n",
              "    <tr>\n",
              "      <th>399</th>\n",
              "      <td>[head, hearts, Western, Sun, Dalroy, come, see...</td>\n",
              "      <td>head hearts Western Sun Dalroy come seemed snu...</td>\n",
              "      <td>chesterton-brown</td>\n",
              "    </tr>\n",
              "  </tbody>\n",
              "</table>\n",
              "<p>400 rows × 3 columns</p>\n",
              "</div>\n",
              "      <button class=\"colab-df-convert\" onclick=\"convertToInteractive('df-d3321204-9291-46f5-8692-905980652332')\"\n",
              "              title=\"Convert this dataframe to an interactive table.\"\n",
              "              style=\"display:none;\">\n",
              "        \n",
              "  <svg xmlns=\"http://www.w3.org/2000/svg\" height=\"24px\"viewBox=\"0 0 24 24\"\n",
              "       width=\"24px\">\n",
              "    <path d=\"M0 0h24v24H0V0z\" fill=\"none\"/>\n",
              "    <path d=\"M18.56 5.44l.94 2.06.94-2.06 2.06-.94-2.06-.94-.94-2.06-.94 2.06-2.06.94zm-11 1L8.5 8.5l.94-2.06 2.06-.94-2.06-.94L8.5 2.5l-.94 2.06-2.06.94zm10 10l.94 2.06.94-2.06 2.06-.94-2.06-.94-.94-2.06-.94 2.06-2.06.94z\"/><path d=\"M17.41 7.96l-1.37-1.37c-.4-.4-.92-.59-1.43-.59-.52 0-1.04.2-1.43.59L10.3 9.45l-7.72 7.72c-.78.78-.78 2.05 0 2.83L4 21.41c.39.39.9.59 1.41.59.51 0 1.02-.2 1.41-.59l7.78-7.78 2.81-2.81c.8-.78.8-2.07 0-2.86zM5.41 20L4 18.59l7.72-7.72 1.47 1.35L5.41 20z\"/>\n",
              "  </svg>\n",
              "      </button>\n",
              "      \n",
              "  <style>\n",
              "    .colab-df-container {\n",
              "      display:flex;\n",
              "      flex-wrap:wrap;\n",
              "      gap: 12px;\n",
              "    }\n",
              "\n",
              "    .colab-df-convert {\n",
              "      background-color: #E8F0FE;\n",
              "      border: none;\n",
              "      border-radius: 50%;\n",
              "      cursor: pointer;\n",
              "      display: none;\n",
              "      fill: #1967D2;\n",
              "      height: 32px;\n",
              "      padding: 0 0 0 0;\n",
              "      width: 32px;\n",
              "    }\n",
              "\n",
              "    .colab-df-convert:hover {\n",
              "      background-color: #E2EBFA;\n",
              "      box-shadow: 0px 1px 2px rgba(60, 64, 67, 0.3), 0px 1px 3px 1px rgba(60, 64, 67, 0.15);\n",
              "      fill: #174EA6;\n",
              "    }\n",
              "\n",
              "    [theme=dark] .colab-df-convert {\n",
              "      background-color: #3B4455;\n",
              "      fill: #D2E3FC;\n",
              "    }\n",
              "\n",
              "    [theme=dark] .colab-df-convert:hover {\n",
              "      background-color: #434B5C;\n",
              "      box-shadow: 0px 1px 3px 1px rgba(0, 0, 0, 0.15);\n",
              "      filter: drop-shadow(0px 1px 2px rgba(0, 0, 0, 0.3));\n",
              "      fill: #FFFFFF;\n",
              "    }\n",
              "  </style>\n",
              "\n",
              "      <script>\n",
              "        const buttonEl =\n",
              "          document.querySelector('#df-d3321204-9291-46f5-8692-905980652332 button.colab-df-convert');\n",
              "        buttonEl.style.display =\n",
              "          google.colab.kernel.accessAllowed ? 'block' : 'none';\n",
              "\n",
              "        async function convertToInteractive(key) {\n",
              "          const element = document.querySelector('#df-d3321204-9291-46f5-8692-905980652332');\n",
              "          const dataTable =\n",
              "            await google.colab.kernel.invokeFunction('convertToInteractive',\n",
              "                                                     [key], {});\n",
              "          if (!dataTable) return;\n",
              "\n",
              "          const docLinkHtml = 'Like what you see? Visit the ' +\n",
              "            '<a target=\"_blank\" href=https://colab.research.google.com/notebooks/data_table.ipynb>data table notebook</a>'\n",
              "            + ' to learn more about interactive tables.';\n",
              "          element.innerHTML = '';\n",
              "          dataTable['output_type'] = 'display_data';\n",
              "          await google.colab.output.renderOutput(dataTable, element);\n",
              "          const docLink = document.createElement('div');\n",
              "          docLink.innerHTML = docLinkHtml;\n",
              "          element.appendChild(docLink);\n",
              "        }\n",
              "      </script>\n",
              "    </div>\n",
              "  </div>\n",
              "  "
            ]
          },
          "metadata": {},
          "execution_count": 71
        }
      ]
    },
    {
      "cell_type": "code",
      "source": [
        ""
      ],
      "metadata": {
        "id": "bJfkquQW99oC"
      },
      "execution_count": null,
      "outputs": []
    }
  ]
}